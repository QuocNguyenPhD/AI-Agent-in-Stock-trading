{
 "cells": [
  {
   "cell_type": "code",
   "execution_count": 1,
   "id": "2adf7dea",
   "metadata": {},
   "outputs": [],
   "source": [
    "import yfinance as yf"
   ]
  },
  {
   "cell_type": "code",
   "execution_count": 18,
   "id": "732e0dc4",
   "metadata": {},
   "outputs": [
    {
     "name": "stderr",
     "output_type": "stream",
     "text": [
      "[*********************100%***********************]  1 of 1 completed\n",
      "[*********************100%***********************]  1 of 1 completed\n"
     ]
    }
   ],
   "source": [
    "volitile = yf.download(\"RIVN\", start='2019-03-16', end='2022-03-17')\n",
    "spy=yf.download(\"SPY\",start='2021-03-16', end='2022-03-17')"
   ]
  },
  {
   "cell_type": "code",
   "execution_count": 19,
   "id": "75aba76d",
   "metadata": {
    "scrolled": false
   },
   "outputs": [
    {
     "data": {
      "text/html": [
       "<div>\n",
       "<style scoped>\n",
       "    .dataframe tbody tr th:only-of-type {\n",
       "        vertical-align: middle;\n",
       "    }\n",
       "\n",
       "    .dataframe tbody tr th {\n",
       "        vertical-align: top;\n",
       "    }\n",
       "\n",
       "    .dataframe thead th {\n",
       "        text-align: right;\n",
       "    }\n",
       "</style>\n",
       "<table border=\"1\" class=\"dataframe\">\n",
       "  <thead>\n",
       "    <tr style=\"text-align: right;\">\n",
       "      <th>Ticker</th>\n",
       "      <th>RIVN</th>\n",
       "    </tr>\n",
       "    <tr>\n",
       "      <th>Date</th>\n",
       "      <th></th>\n",
       "    </tr>\n",
       "  </thead>\n",
       "  <tbody>\n",
       "    <tr>\n",
       "      <th>2021-11-10</th>\n",
       "      <td>106.750000</td>\n",
       "    </tr>\n",
       "    <tr>\n",
       "      <th>2021-11-11</th>\n",
       "      <td>114.625000</td>\n",
       "    </tr>\n",
       "    <tr>\n",
       "      <th>2021-11-12</th>\n",
       "      <td>128.645004</td>\n",
       "    </tr>\n",
       "    <tr>\n",
       "      <th>2021-11-15</th>\n",
       "      <td>130.800003</td>\n",
       "    </tr>\n",
       "    <tr>\n",
       "      <th>2021-11-16</th>\n",
       "      <td>163.800003</td>\n",
       "    </tr>\n",
       "    <tr>\n",
       "      <th>...</th>\n",
       "      <td>...</td>\n",
       "    </tr>\n",
       "    <tr>\n",
       "      <th>2022-03-10</th>\n",
       "      <td>44.105000</td>\n",
       "    </tr>\n",
       "    <tr>\n",
       "      <th>2022-03-11</th>\n",
       "      <td>38.320000</td>\n",
       "    </tr>\n",
       "    <tr>\n",
       "      <th>2022-03-14</th>\n",
       "      <td>37.740002</td>\n",
       "    </tr>\n",
       "    <tr>\n",
       "      <th>2022-03-15</th>\n",
       "      <td>35.669998</td>\n",
       "    </tr>\n",
       "    <tr>\n",
       "      <th>2022-03-16</th>\n",
       "      <td>38.500000</td>\n",
       "    </tr>\n",
       "  </tbody>\n",
       "</table>\n",
       "<p>87 rows × 1 columns</p>\n",
       "</div>"
      ],
      "text/plain": [
       "Ticker            RIVN\n",
       "Date                  \n",
       "2021-11-10  106.750000\n",
       "2021-11-11  114.625000\n",
       "2021-11-12  128.645004\n",
       "2021-11-15  130.800003\n",
       "2021-11-16  163.800003\n",
       "...                ...\n",
       "2022-03-10   44.105000\n",
       "2022-03-11   38.320000\n",
       "2022-03-14   37.740002\n",
       "2022-03-15   35.669998\n",
       "2022-03-16   38.500000\n",
       "\n",
       "[87 rows x 1 columns]"
      ]
     },
     "execution_count": 19,
     "metadata": {},
     "output_type": "execute_result"
    }
   ],
   "source": [
    "volitile[\"Open\"]"
   ]
  },
  {
   "cell_type": "code",
   "execution_count": 20,
   "id": "1bc9bdf8",
   "metadata": {
    "scrolled": true
   },
   "outputs": [
    {
     "data": {
      "text/html": [
       "<div>\n",
       "<style scoped>\n",
       "    .dataframe tbody tr th:only-of-type {\n",
       "        vertical-align: middle;\n",
       "    }\n",
       "\n",
       "    .dataframe tbody tr th {\n",
       "        vertical-align: top;\n",
       "    }\n",
       "\n",
       "    .dataframe thead tr th {\n",
       "        text-align: left;\n",
       "    }\n",
       "\n",
       "    .dataframe thead tr:last-of-type th {\n",
       "        text-align: right;\n",
       "    }\n",
       "</style>\n",
       "<table border=\"1\" class=\"dataframe\">\n",
       "  <thead>\n",
       "    <tr>\n",
       "      <th>Price</th>\n",
       "      <th>Close</th>\n",
       "      <th>High</th>\n",
       "      <th>Low</th>\n",
       "      <th>Open</th>\n",
       "      <th>Volume</th>\n",
       "    </tr>\n",
       "    <tr>\n",
       "      <th>Ticker</th>\n",
       "      <th>SPY</th>\n",
       "      <th>SPY</th>\n",
       "      <th>SPY</th>\n",
       "      <th>SPY</th>\n",
       "      <th>SPY</th>\n",
       "    </tr>\n",
       "    <tr>\n",
       "      <th>Date</th>\n",
       "      <th></th>\n",
       "      <th></th>\n",
       "      <th></th>\n",
       "      <th></th>\n",
       "      <th></th>\n",
       "    </tr>\n",
       "  </thead>\n",
       "  <tbody>\n",
       "    <tr>\n",
       "      <th>2021-03-16</th>\n",
       "      <td>373.912567</td>\n",
       "      <td>375.725873</td>\n",
       "      <td>373.128667</td>\n",
       "      <td>375.008119</td>\n",
       "      <td>73722500</td>\n",
       "    </tr>\n",
       "    <tr>\n",
       "      <th>2021-03-17</th>\n",
       "      <td>375.187531</td>\n",
       "      <td>375.999734</td>\n",
       "      <td>371.447534</td>\n",
       "      <td>372.609204</td>\n",
       "      <td>97959300</td>\n",
       "    </tr>\n",
       "    <tr>\n",
       "      <th>2021-03-18</th>\n",
       "      <td>369.728699</td>\n",
       "      <td>374.677546</td>\n",
       "      <td>369.039248</td>\n",
       "      <td>372.562013</td>\n",
       "      <td>115349100</td>\n",
       "    </tr>\n",
       "    <tr>\n",
       "      <th>2021-03-19</th>\n",
       "      <td>369.044525</td>\n",
       "      <td>371.024862</td>\n",
       "      <td>366.836761</td>\n",
       "      <td>369.423532</td>\n",
       "      <td>113624500</td>\n",
       "    </tr>\n",
       "    <tr>\n",
       "      <th>2021-03-22</th>\n",
       "      <td>371.991425</td>\n",
       "      <td>373.393782</td>\n",
       "      <td>369.508896</td>\n",
       "      <td>369.565746</td>\n",
       "      <td>73778600</td>\n",
       "    </tr>\n",
       "    <tr>\n",
       "      <th>...</th>\n",
       "      <td>...</td>\n",
       "      <td>...</td>\n",
       "      <td>...</td>\n",
       "      <td>...</td>\n",
       "      <td>...</td>\n",
       "    </tr>\n",
       "    <tr>\n",
       "      <th>2022-03-10</th>\n",
       "      <td>407.196075</td>\n",
       "      <td>408.105234</td>\n",
       "      <td>402.372649</td>\n",
       "      <td>404.363253</td>\n",
       "      <td>93972700</td>\n",
       "    </tr>\n",
       "    <tr>\n",
       "      <th>2022-03-11</th>\n",
       "      <td>402.018585</td>\n",
       "      <td>410.344708</td>\n",
       "      <td>401.501782</td>\n",
       "      <td>409.722646</td>\n",
       "      <td>95636300</td>\n",
       "    </tr>\n",
       "    <tr>\n",
       "      <th>2022-03-14</th>\n",
       "      <td>399.080444</td>\n",
       "      <td>406.305990</td>\n",
       "      <td>397.922449</td>\n",
       "      <td>402.803295</td>\n",
       "      <td>95729200</td>\n",
       "    </tr>\n",
       "    <tr>\n",
       "      <th>2022-03-15</th>\n",
       "      <td>407.856445</td>\n",
       "      <td>408.497637</td>\n",
       "      <td>400.439482</td>\n",
       "      <td>401.731446</td>\n",
       "      <td>106219100</td>\n",
       "    </tr>\n",
       "    <tr>\n",
       "      <th>2022-03-16</th>\n",
       "      <td>416.900299</td>\n",
       "      <td>416.957718</td>\n",
       "      <td>406.545255</td>\n",
       "      <td>411.416550</td>\n",
       "      <td>144954800</td>\n",
       "    </tr>\n",
       "  </tbody>\n",
       "</table>\n",
       "<p>254 rows × 5 columns</p>\n",
       "</div>"
      ],
      "text/plain": [
       "Price            Close        High         Low        Open     Volume\n",
       "Ticker             SPY         SPY         SPY         SPY        SPY\n",
       "Date                                                                 \n",
       "2021-03-16  373.912567  375.725873  373.128667  375.008119   73722500\n",
       "2021-03-17  375.187531  375.999734  371.447534  372.609204   97959300\n",
       "2021-03-18  369.728699  374.677546  369.039248  372.562013  115349100\n",
       "2021-03-19  369.044525  371.024862  366.836761  369.423532  113624500\n",
       "2021-03-22  371.991425  373.393782  369.508896  369.565746   73778600\n",
       "...                ...         ...         ...         ...        ...\n",
       "2022-03-10  407.196075  408.105234  402.372649  404.363253   93972700\n",
       "2022-03-11  402.018585  410.344708  401.501782  409.722646   95636300\n",
       "2022-03-14  399.080444  406.305990  397.922449  402.803295   95729200\n",
       "2022-03-15  407.856445  408.497637  400.439482  401.731446  106219100\n",
       "2022-03-16  416.900299  416.957718  406.545255  411.416550  144954800\n",
       "\n",
       "[254 rows x 5 columns]"
      ]
     },
     "execution_count": 20,
     "metadata": {},
     "output_type": "execute_result"
    }
   ],
   "source": [
    "spy"
   ]
  },
  {
   "cell_type": "code",
   "execution_count": 23,
   "id": "2039cb15",
   "metadata": {},
   "outputs": [
    {
     "data": {
      "text/plain": [
       "[<matplotlib.lines.Line2D at 0x7fd5b3c45fd0>]"
      ]
     },
     "execution_count": 23,
     "metadata": {},
     "output_type": "execute_result"
    },
    {
     "data": {
      "image/png": "[encoded data removed]",
      "text/plain": [
       "<Figure size 432x288 with 1 Axes>"
      ]
     },
     "metadata": {
      "needs_background": "light"
     },
     "output_type": "display_data"
    }
   ],
   "source": [
    "import matplotlib.pyplot as plt\n",
    "\n",
    "plt.plot(volitile[\"Open\"])"
   ]
  }
 ],
 "metadata": {
  "kernelspec": {
   "display_name": "Python 3 (ipykernel)",
   "language": "python",
   "name": "python3"
  },
  "language_info": {
   "codemirror_mode": {
    "name": "ipython",
    "version": 3
   },
   "file_extension": ".py",
   "mimetype": "text/x-python",
   "name": "python",
   "nbconvert_exporter": "python",
   "pygments_lexer": "ipython3",
   "version": "3.9.7"
  }
 },
 "nbformat": 4,
 "nbformat_minor": 5
}
